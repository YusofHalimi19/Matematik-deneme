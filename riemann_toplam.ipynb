{
 "cells": [
  {
   "cell_type": "code",
   "execution_count": 87,
   "id": "recovered-anaheim",
   "metadata": {},
   "outputs": [],
   "source": [
    "def f(x):\n",
    "    return x**3\n",
    "\n",
    "import numpy as np\n",
    "\n",
    "def riemann_toplam(f, a, b, N, yontem):\n",
    "    dx = (b-a) / N\n",
    "    \n",
    "    x = np.linspace(a,b,N+1)\n",
    "    \n",
    "    if yontem == 'alt_riemann':\n",
    "        return np.sum(f(x[:-1])*dx)\n",
    "    elif yontem == 'ust_riemann':\n",
    "        return np.sum(f(x[1:])*dx)"
   ]
  },
  {
   "cell_type": "code",
   "execution_count": 88,
   "id": "prospective-paint",
   "metadata": {},
   "outputs": [
    {
     "data": {
      "text/plain": [
       "0.24999500002500008"
      ]
     },
     "execution_count": 88,
     "metadata": {},
     "output_type": "execute_result"
    }
   ],
   "source": [
    "riemann_toplam(f,0,1,100,'alt_riemann')"
   ]
  },
  {
   "cell_type": "code",
   "execution_count": 89,
   "id": "welcome-memorial",
   "metadata": {},
   "outputs": [
    {
     "data": {
      "text/plain": [
       "0.25000500002500003"
      ]
     },
     "execution_count": 89,
     "metadata": {},
     "output_type": "execute_result"
    }
   ],
   "source": [
    "riemann_toplam(f,0,1,100,'ust_riemann')"
   ]
  },
  {
   "cell_type": "code",
   "execution_count": 1,
   "id": "liable-basics",
   "metadata": {},
   "outputs": [
    {
     "data": {
      "text/latex": [
       "$\\displaystyle \\frac{t^{5}}{5} + t$"
      ],
      "text/plain": [
       "t**5/5 + t"
      ]
     },
     "execution_count": 1,
     "metadata": {},
     "output_type": "execute_result"
    }
   ],
   "source": [
    "from sympy import *\n",
    "t = Symbol('t')\n",
    "integrate(t**4 + 1,t)"
   ]
  },
  {
   "cell_type": "code",
   "execution_count": 2,
   "id": "differential-ticket",
   "metadata": {},
   "outputs": [
    {
     "data": {
      "text/plain": [
       "1.2"
      ]
     },
     "execution_count": 2,
     "metadata": {},
     "output_type": "execute_result"
    }
   ],
   "source": [
    "float(integrate(t**4 + 1,(t,0,1)))"
   ]
  },
  {
   "cell_type": "code",
   "execution_count": null,
   "id": "bored-white",
   "metadata": {},
   "outputs": [],
   "source": []
  }
 ],
 "metadata": {
  "kernelspec": {
   "display_name": "Python 3",
   "language": "python",
   "name": "python3"
  },
  "language_info": {
   "codemirror_mode": {
    "name": "ipython",
    "version": 3
   },
   "file_extension": ".py",
   "mimetype": "text/x-python",
   "name": "python",
   "nbconvert_exporter": "python",
   "pygments_lexer": "ipython3",
   "version": "3.7.8"
  }
 },
 "nbformat": 4,
 "nbformat_minor": 5
}
